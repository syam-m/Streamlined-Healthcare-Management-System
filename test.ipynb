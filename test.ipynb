{
 "cells": [
  {
   "cell_type": "code",
   "execution_count": 1,
   "metadata": {},
   "outputs": [
    {
     "ename": "ModuleNotFoundError",
     "evalue": "No module named 'mysql'",
     "output_type": "error",
     "traceback": [
      "\u001b[0;31m---------------------------------------------------------------------------\u001b[0m",
      "\u001b[0;31mModuleNotFoundError\u001b[0m                       Traceback (most recent call last)",
      "Cell \u001b[0;32mIn[1], line 1\u001b[0m\n\u001b[0;32m----> 1\u001b[0m \u001b[38;5;28;01mimport\u001b[39;00m \u001b[38;5;21;01mmysql\u001b[39;00m\n",
      "\u001b[0;31mModuleNotFoundError\u001b[0m: No module named 'mysql'"
     ]
    }
   ],
   "source": [
    "import mysql"
   ]
  },
  {
   "cell_type": "code",
   "execution_count": 2,
   "metadata": {},
   "outputs": [
    {
     "ename": "ModuleNotFoundError",
     "evalue": "No module named 'pandas'",
     "output_type": "error",
     "traceback": [
      "\u001b[0;31m---------------------------------------------------------------------------\u001b[0m",
      "\u001b[0;31mModuleNotFoundError\u001b[0m                       Traceback (most recent call last)",
      "Cell \u001b[0;32mIn[2], line 1\u001b[0m\n\u001b[0;32m----> 1\u001b[0m \u001b[38;5;28;01mimport\u001b[39;00m \u001b[38;5;21;01mpandas\u001b[39;00m\n",
      "\u001b[0;31mModuleNotFoundError\u001b[0m: No module named 'pandas'"
     ]
    }
   ],
   "source": [
    "import pandas"
   ]
  },
  {
   "cell_type": "code",
   "execution_count": 1,
   "metadata": {},
   "outputs": [
    {
     "name": "stdout",
     "output_type": "stream",
     "text": [
      "Requirement already satisfied: streamlit in /Users/syam/opt/anaconda3/lib/python3.9/site-packages (1.32.2)\n",
      "Requirement already satisfied: pydeck<1,>=0.8.0b4 in /Users/syam/opt/anaconda3/lib/python3.9/site-packages (from streamlit) (0.8.1b0)\n",
      "Requirement already satisfied: blinker<2,>=1.0.0 in /Users/syam/opt/anaconda3/lib/python3.9/site-packages (from streamlit) (1.7.0)\n",
      "Requirement already satisfied: toml<2,>=0.10.1 in /Users/syam/opt/anaconda3/lib/python3.9/site-packages (from streamlit) (0.10.2)\n",
      "Requirement already satisfied: rich<14,>=10.14.0 in /Users/syam/opt/anaconda3/lib/python3.9/site-packages (from streamlit) (13.7.1)\n",
      "Requirement already satisfied: packaging<24,>=16.8 in /Users/syam/opt/anaconda3/lib/python3.9/site-packages (from streamlit) (21.3)\n",
      "Requirement already satisfied: pyarrow>=7.0 in /Users/syam/opt/anaconda3/lib/python3.9/site-packages (from streamlit) (15.0.1)\n",
      "Requirement already satisfied: tenacity<9,>=8.1.0 in /Users/syam/opt/anaconda3/lib/python3.9/site-packages (from streamlit) (8.2.3)\n",
      "Requirement already satisfied: requests<3,>=2.27 in /Users/syam/opt/anaconda3/lib/python3.9/site-packages (from streamlit) (2.27.1)\n",
      "Requirement already satisfied: typing-extensions<5,>=4.3.0 in /Users/syam/opt/anaconda3/lib/python3.9/site-packages (from streamlit) (4.5.0)\n",
      "Requirement already satisfied: tornado<7,>=6.0.3 in /Users/syam/opt/anaconda3/lib/python3.9/site-packages (from streamlit) (6.1)\n",
      "Requirement already satisfied: pandas<3,>=1.3.0 in /Users/syam/opt/anaconda3/lib/python3.9/site-packages (from streamlit) (1.4.2)\n",
      "Requirement already satisfied: pillow<11,>=7.1.0 in /Users/syam/opt/anaconda3/lib/python3.9/site-packages (from streamlit) (9.0.1)\n",
      "Requirement already satisfied: click<9,>=7.0 in /Users/syam/opt/anaconda3/lib/python3.9/site-packages (from streamlit) (8.0.4)\n",
      "Requirement already satisfied: altair<6,>=4.0 in /Users/syam/opt/anaconda3/lib/python3.9/site-packages (from streamlit) (5.2.0)\n",
      "Requirement already satisfied: numpy<2,>=1.19.3 in /Users/syam/opt/anaconda3/lib/python3.9/site-packages (from streamlit) (1.22.4)\n",
      "Requirement already satisfied: protobuf<5,>=3.20 in /Users/syam/opt/anaconda3/lib/python3.9/site-packages (from streamlit) (4.25.3)\n",
      "Requirement already satisfied: gitpython!=3.1.19,<4,>=3.0.7 in /Users/syam/opt/anaconda3/lib/python3.9/site-packages (from streamlit) (3.1.42)\n",
      "Requirement already satisfied: cachetools<6,>=4.0 in /Users/syam/opt/anaconda3/lib/python3.9/site-packages (from streamlit) (4.2.2)\n",
      "Requirement already satisfied: jsonschema>=3.0 in /Users/syam/opt/anaconda3/lib/python3.9/site-packages (from altair<6,>=4.0->streamlit) (4.4.0)\n",
      "Requirement already satisfied: toolz in /Users/syam/opt/anaconda3/lib/python3.9/site-packages (from altair<6,>=4.0->streamlit) (0.11.2)\n",
      "Requirement already satisfied: jinja2 in /Users/syam/opt/anaconda3/lib/python3.9/site-packages (from altair<6,>=4.0->streamlit) (2.11.3)\n",
      "Requirement already satisfied: gitdb<5,>=4.0.1 in /Users/syam/opt/anaconda3/lib/python3.9/site-packages (from gitpython!=3.1.19,<4,>=3.0.7->streamlit) (4.0.11)\n",
      "Requirement already satisfied: smmap<6,>=3.0.1 in /Users/syam/opt/anaconda3/lib/python3.9/site-packages (from gitdb<5,>=4.0.1->gitpython!=3.1.19,<4,>=3.0.7->streamlit) (5.0.1)\n",
      "Requirement already satisfied: pyrsistent!=0.17.0,!=0.17.1,!=0.17.2,>=0.14.0 in /Users/syam/opt/anaconda3/lib/python3.9/site-packages (from jsonschema>=3.0->altair<6,>=4.0->streamlit) (0.18.0)\n",
      "Requirement already satisfied: attrs>=17.4.0 in /Users/syam/opt/anaconda3/lib/python3.9/site-packages (from jsonschema>=3.0->altair<6,>=4.0->streamlit) (21.4.0)\n",
      "Requirement already satisfied: pyparsing!=3.0.5,>=2.0.2 in /Users/syam/opt/anaconda3/lib/python3.9/site-packages (from packaging<24,>=16.8->streamlit) (3.0.4)\n",
      "Requirement already satisfied: python-dateutil>=2.8.1 in /Users/syam/opt/anaconda3/lib/python3.9/site-packages (from pandas<3,>=1.3.0->streamlit) (2.8.2)\n",
      "Requirement already satisfied: pytz>=2020.1 in /Users/syam/opt/anaconda3/lib/python3.9/site-packages (from pandas<3,>=1.3.0->streamlit) (2021.3)\n",
      "Requirement already satisfied: MarkupSafe>=0.23 in /Users/syam/opt/anaconda3/lib/python3.9/site-packages (from jinja2->altair<6,>=4.0->streamlit) (2.0.1)\n",
      "Requirement already satisfied: six>=1.5 in /Users/syam/opt/anaconda3/lib/python3.9/site-packages (from python-dateutil>=2.8.1->pandas<3,>=1.3.0->streamlit) (1.16.0)\n",
      "Requirement already satisfied: idna<4,>=2.5 in /Users/syam/opt/anaconda3/lib/python3.9/site-packages (from requests<3,>=2.27->streamlit) (3.3)\n",
      "Requirement already satisfied: charset-normalizer~=2.0.0 in /Users/syam/opt/anaconda3/lib/python3.9/site-packages (from requests<3,>=2.27->streamlit) (2.0.4)\n",
      "Requirement already satisfied: certifi>=2017.4.17 in /Users/syam/opt/anaconda3/lib/python3.9/site-packages (from requests<3,>=2.27->streamlit) (2021.10.8)\n",
      "Requirement already satisfied: urllib3<1.27,>=1.21.1 in /Users/syam/opt/anaconda3/lib/python3.9/site-packages (from requests<3,>=2.27->streamlit) (1.26.9)\n",
      "Requirement already satisfied: markdown-it-py>=2.2.0 in /Users/syam/opt/anaconda3/lib/python3.9/site-packages (from rich<14,>=10.14.0->streamlit) (3.0.0)\n",
      "Requirement already satisfied: pygments<3.0.0,>=2.13.0 in /Users/syam/opt/anaconda3/lib/python3.9/site-packages (from rich<14,>=10.14.0->streamlit) (2.17.2)\n",
      "Requirement already satisfied: mdurl~=0.1 in /Users/syam/opt/anaconda3/lib/python3.9/site-packages (from markdown-it-py>=2.2.0->rich<14,>=10.14.0->streamlit) (0.1.2)\n"
     ]
    }
   ],
   "source": [
    "!pip install streamlit\n"
   ]
  },
  {
   "cell_type": "code",
   "execution_count": null,
   "metadata": {},
   "outputs": [],
   "source": []
  }
 ],
 "metadata": {
  "kernelspec": {
   "display_name": "Python 3",
   "language": "python",
   "name": "python3"
  },
  "language_info": {
   "codemirror_mode": {
    "name": "ipython",
    "version": 3
   },
   "file_extension": ".py",
   "mimetype": "text/x-python",
   "name": "python",
   "nbconvert_exporter": "python",
   "pygments_lexer": "ipython3",
   "version": "3.9.12"
  }
 },
 "nbformat": 4,
 "nbformat_minor": 2
}
